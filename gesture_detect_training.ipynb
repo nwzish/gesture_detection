{
 "cells": [
  {
   "cell_type": "code",
   "execution_count": 2,
   "metadata": {},
   "outputs": [],
   "source": [
    "from keras.preprocessing.image import ImageDataGenerator\n",
    "from keras.layers import Conv2D, MaxPooling2D, Dropout,Dense,Flatten\n",
    "from keras.callbacks import EarlyStopping, ModelCheckpoint\n",
    "from keras.models import Sequential, load_model\n",
    "import numpy as np\n",
    "import os\n",
    "from sklearn.metrics import accuracy_score"
   ]
  },
  {
   "cell_type": "code",
   "execution_count": 11,
   "metadata": {},
   "outputs": [
    {
     "name": "stdout",
     "output_type": "stream",
     "text": [
      "Found 9081 images belonging to 6 classes.\n",
      "Found 3632 images belonging to 6 classes.\n"
     ]
    }
   ],
   "source": [
    "batch = 32\n",
    "\n",
    "train_imgdatagen = ImageDataGenerator( rescale=1./255,\n",
    "                                      rotation_range = 10,\n",
    "                                      width_shift_range = 0.1,\n",
    "                                      height_shift_range = 0.1,\n",
    "                                      zoom_range = 0.2,\n",
    "                                      horizontal_flip = True\n",
    "                                    )\n",
    "test_imagedatagen = ImageDataGenerator(rescale=1./255)\n",
    "\n",
    "train_data = train_imgdatagen.flow_from_directory(\n",
    "    'images/train/',\n",
    "    target_size = (300,300),\n",
    "    color_mode='grayscale',\n",
    "    batch_size = batch,\n",
    "    classes = ['NONE','ONE','TWO','THREE','FOUR','FIVE'],\n",
    "    class_mode = 'categorical'\n",
    "    )\n",
    "test_data = test_imagedatagen.flow_from_directory(\n",
    "    'images/test/',\n",
    "    target_size = (300,300),\n",
    "    color_mode='grayscale',\n",
    "    batch_size = 3600,\n",
    "    classes = ['NONE','ONE','TWO','THREE','FOUR','FIVE'],\n",
    "    class_mode = 'categorical'\n",
    "    )"
   ]
  },
  {
   "cell_type": "code",
   "execution_count": 3,
   "metadata": {},
   "outputs": [
    {
     "data": {
      "text/plain": [
       "True"
      ]
     },
     "execution_count": 3,
     "metadata": {},
     "output_type": "execute_result"
    }
   ],
   "source": [
    "train_data.class_indices == test_data.class_indices"
   ]
  },
  {
   "cell_type": "code",
   "execution_count": 7,
   "metadata": {},
   "outputs": [
    {
     "name": "stdout",
     "output_type": "stream",
     "text": [
      "(32, 300, 300, 1) (32, 6)\n",
      "284\n"
     ]
    }
   ],
   "source": [
    "for X,y in train_data:\n",
    "    print(X.shape, y.shape)\n",
    "    \n",
    "    break\n",
    "    \n",
    "print(len(train_data))"
   ]
  },
  {
   "cell_type": "code",
   "execution_count": 8,
   "metadata": {},
   "outputs": [
    {
     "name": "stdout",
     "output_type": "stream",
     "text": [
      "_________________________________________________________________\n",
      "Layer (type)                 Output Shape              Param #   \n",
      "=================================================================\n",
      "conv2d_1 (Conv2D)            (None, 298, 298, 32)      320       \n",
      "_________________________________________________________________\n",
      "max_pooling2d_1 (MaxPooling2 (None, 149, 149, 32)      0         \n",
      "_________________________________________________________________\n",
      "conv2d_2 (Conv2D)            (None, 147, 147, 64)      18496     \n",
      "_________________________________________________________________\n",
      "max_pooling2d_2 (MaxPooling2 (None, 73, 73, 64)        0         \n",
      "_________________________________________________________________\n",
      "conv2d_3 (Conv2D)            (None, 71, 71, 128)       73856     \n",
      "_________________________________________________________________\n",
      "max_pooling2d_3 (MaxPooling2 (None, 35, 35, 128)       0         \n",
      "_________________________________________________________________\n",
      "conv2d_4 (Conv2D)            (None, 33, 33, 128)       147584    \n",
      "_________________________________________________________________\n",
      "max_pooling2d_4 (MaxPooling2 (None, 16, 16, 128)       0         \n",
      "_________________________________________________________________\n",
      "flatten_1 (Flatten)          (None, 32768)             0         \n",
      "_________________________________________________________________\n",
      "dense_1 (Dense)              (None, 512)               16777728  \n",
      "_________________________________________________________________\n",
      "dropout_1 (Dropout)          (None, 512)               0         \n",
      "_________________________________________________________________\n",
      "dense_2 (Dense)              (None, 6)                 3078      \n",
      "=================================================================\n",
      "Total params: 17,021,062\n",
      "Trainable params: 17,021,062\n",
      "Non-trainable params: 0\n",
      "_________________________________________________________________\n"
     ]
    }
   ],
   "source": [
    "model = Sequential()\n",
    "model.add(Conv2D(32,(3,3),activation='relu', input_shape=(300,300,1)))\n",
    "model.add(MaxPooling2D((2,2)))\n",
    "model.add(Conv2D(64,(3,3),activation='relu'))\n",
    "model.add(MaxPooling2D((2,2)))\n",
    "model.add(Conv2D(128,(3,3),activation='relu'))\n",
    "model.add(MaxPooling2D((2,2)))\n",
    "model.add(Conv2D(128,(3,3),activation='relu'))\n",
    "model.add(MaxPooling2D((2,2)))\n",
    "model.add(Flatten())\n",
    "model.add(Dense(512,activation='relu'))\n",
    "model.add(Dropout(0.3))\n",
    "model.add(Dense(6,activation='softmax'))\n",
    "\n",
    "model.summary()"
   ]
  },
  {
   "cell_type": "code",
   "execution_count": 12,
   "metadata": {},
   "outputs": [],
   "source": [
    "model.compile(optimizer = 'adadelta',loss = 'categorical_crossentropy',metrics= ['acc'])"
   ]
  },
  {
   "cell_type": "code",
   "execution_count": 9,
   "metadata": {},
   "outputs": [],
   "source": [
    "callbacks_list = [\n",
    "    EarlyStopping(monitor='val_loss',patience=10),\n",
    "    ModelCheckpoint(filepath = 'model_finger_count3.h5',monitor='val_loss',save_best_only=True)\n",
    "]"
   ]
  },
  {
   "cell_type": "code",
   "execution_count": 13,
   "metadata": {},
   "outputs": [],
   "source": [
    "model.load_weights('model_finger_count1.h5')"
   ]
  },
  {
   "cell_type": "code",
   "execution_count": 14,
   "metadata": {
    "scrolled": false
   },
   "outputs": [
    {
     "name": "stdout",
     "output_type": "stream",
     "text": [
      "Epoch 1/10\n",
      "64/64 [==============================] - 184s 3s/step - loss: 0.0825 - acc: 0.9736 - val_loss: 0.0064 - val_acc: 0.9972\n",
      "Epoch 2/10\n",
      "64/64 [==============================] - 166s 3s/step - loss: 0.0632 - acc: 0.9800 - val_loss: 0.0058 - val_acc: 0.9983\n",
      "Epoch 3/10\n",
      "64/64 [==============================] - 164s 3s/step - loss: 0.0556 - acc: 0.9839 - val_loss: 0.0037 - val_acc: 0.9994\n",
      "Epoch 4/10\n",
      "64/64 [==============================] - 162s 3s/step - loss: 0.0347 - acc: 0.9907 - val_loss: 8.8552e-04 - val_acc: 1.0000\n",
      "Epoch 5/10\n",
      "64/64 [==============================] - 163s 3s/step - loss: 0.0428 - acc: 0.9873 - val_loss: 0.0090 - val_acc: 0.9970\n",
      "Epoch 6/10\n",
      "64/64 [==============================] - 155s 2s/step - loss: 0.0517 - acc: 0.9844 - val_loss: 0.0058 - val_acc: 0.9981\n",
      "Epoch 7/10\n",
      "64/64 [==============================] - 159s 2s/step - loss: 0.0469 - acc: 0.9858 - val_loss: 0.0073 - val_acc: 0.9978\n",
      "Epoch 8/10\n",
      "64/64 [==============================] - 157s 2s/step - loss: 0.0321 - acc: 0.9902 - val_loss: 0.0036 - val_acc: 0.9981\n",
      "Epoch 9/10\n",
      "64/64 [==============================] - 158s 2s/step - loss: 0.0638 - acc: 0.9819 - val_loss: 0.0097 - val_acc: 0.9981\n",
      "Epoch 10/10\n",
      "64/64 [==============================] - 168s 3s/step - loss: 0.0438 - acc: 0.9883 - val_loss: 0.0031 - val_acc: 0.9983\n"
     ]
    }
   ],
   "source": [
    "history = model.fit_generator(\n",
    "    train_data,\n",
    "    steps_per_epoch = 64,\n",
    "    epochs = 10,\n",
    "    validation_data = test_data,\n",
    "    validation_steps = 28,\n",
    "    callbacks=callbacks_list\n",
    ")"
   ]
  },
  {
   "cell_type": "code",
   "execution_count": 19,
   "metadata": {},
   "outputs": [],
   "source": [
    "model = load_model('model_finger_count3.h5')"
   ]
  },
  {
   "cell_type": "code",
   "execution_count": 43,
   "metadata": {},
   "outputs": [],
   "source": [
    "X_test = test_data[0][0]\n",
    "y_test = test_data[0][1]\n",
    "pred = model.predict(X_test)\n"
   ]
  },
  {
   "cell_type": "code",
   "execution_count": 44,
   "metadata": {},
   "outputs": [
    {
     "data": {
      "text/plain": [
       "1.0"
      ]
     },
     "execution_count": 44,
     "metadata": {},
     "output_type": "execute_result"
    }
   ],
   "source": [
    "y_true = np.argmax(y_test,axis=1)\n",
    "y_pred = np.argmax(pred,axis=1)\n",
    "accuracy_score(y_true,y_pred)\n"
   ]
  },
  {
   "cell_type": "code",
   "execution_count": 45,
   "metadata": {},
   "outputs": [
    {
     "name": "stdout",
     "output_type": "stream",
     "text": [
      "Accuracy : 100.000000\n"
     ]
    }
   ],
   "source": [
    "true_match = (y_true==y_pred)\n",
    "print('Accuracy : %f' % (np.sum(true_match)/true_match.shape[0]*100))"
   ]
  }
 ],
 "metadata": {
  "kernelspec": {
   "display_name": "Python 3",
   "language": "python",
   "name": "python3"
  },
  "language_info": {
   "codemirror_mode": {
    "name": "ipython",
    "version": 3
   },
   "file_extension": ".py",
   "mimetype": "text/x-python",
   "name": "python",
   "nbconvert_exporter": "python",
   "pygments_lexer": "ipython3",
   "version": "3.6.6"
  }
 },
 "nbformat": 4,
 "nbformat_minor": 2
}
